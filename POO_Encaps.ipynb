{
  "nbformat": 4,
  "nbformat_minor": 0,
  "metadata": {
    "colab": {
      "provenance": [],
      "authorship_tag": "ABX9TyMJPFisPijEqc3AZ/4fBQaR",
      "include_colab_link": true
    },
    "kernelspec": {
      "name": "python3",
      "display_name": "Python 3"
    },
    "language_info": {
      "name": "python"
    }
  },
  "cells": [
    {
      "cell_type": "markdown",
      "metadata": {
        "id": "view-in-github",
        "colab_type": "text"
      },
      "source": [
        "<a href=\"https://colab.research.google.com/github/AndreV1ctor/Aulas-Python/blob/master/POO_Encaps.ipynb\" target=\"_parent\"><img src=\"https://colab.research.google.com/assets/colab-badge.svg\" alt=\"Open In Colab\"/></a>"
      ]
    },
    {
      "cell_type": "code",
      "execution_count": 1,
      "metadata": {
        "colab": {
          "base_uri": "https://localhost:8080/"
        },
        "id": "xK4Wpm6dXgk6",
        "outputId": "187b70ab-f2aa-4b78-e327-6572648a29af"
      },
      "outputs": [
        {
          "output_type": "stream",
          "name": "stdout",
          "text": [
            "Meu salario é:  1200\n",
            "180.0\n"
          ]
        }
      ],
      "source": [
        "class Funcionario():       #classe funcionario com seus atributos (nome, cpf e salario) criada.\n",
        "   def __init__(self, nome, cpf, salario): #self: caracteristas relacionadas a ele mesmo, exemplo, o cpf passado do nosso funcionario (self.cpf) vai ser igual o cpf passado como parametro do funcionario \n",
        "      self.nome = nome  #__init__ : construtor, mostra que a estutura que está sendo utilizada dentro dele (self, nome, cpf, salario) para criar as classes.\n",
        "      self.cpf = cpf   #informações que o usuario irá passar para a criação da sua classe e sendo atribuidas\n",
        "      self.salario = salario\n",
        "\n",
        "   def get_salario(self):        #criação do(s) metodo(s) da classe, para isso é chamada a função def, com o nome do metodo (get_salario), passando-o ele mesmo (self):\n",
        "      print(\"Meu salario é: \", self.salario)     #após criado o método, podemos dizer o que vai ser feito com ele, nesse caso, impressão do salário.\n",
        "   def get_bonificacao(self):\n",
        "      return self.salario * 0.15      #retorno do salario + uma bonificação de 0.15% do salario\n",
        "\n",
        "\n",
        "andre = Funcionario('André', '12332057498', 1200)\n",
        "andre.get_salario()\n",
        "print(andre.get_bonificacao())\n"
      ]
    }
  ]
}